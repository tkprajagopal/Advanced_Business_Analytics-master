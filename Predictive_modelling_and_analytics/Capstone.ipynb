{
 "cells": [
  {
   "cell_type": "code",
   "execution_count": 1,
   "metadata": {
    "collapsed": true
   },
   "outputs": [],
   "source": [
    "import numpy as np\n",
    "import pandas as pd\n",
    "import matplotlib.pyplot as plt\n",
    "import seaborn as sns\n",
    "%matplotlib inline"
   ]
  },
  {
   "cell_type": "code",
   "execution_count": 51,
   "metadata": {
    "collapsed": true
   },
   "outputs": [],
   "source": [
    "data = pd.read_excel(\"data/capstone-project.xlsx\")"
   ]
  },
  {
   "cell_type": "code",
   "execution_count": 52,
   "metadata": {
    "collapsed": false,
    "scrolled": false
   },
   "outputs": [
    {
     "name": "stdout",
     "output_type": "stream",
     "text": [
      "<class 'pandas.core.frame.DataFrame'>\n",
      "RangeIndex: 7151 entries, 0 to 7150\n",
      "Data columns (total 16 columns):\n",
      "id                      7151 non-null int64\n",
      "member_id               7151 non-null int64\n",
      "term                    7151 non-null object\n",
      "purpose                 7151 non-null object\n",
      "loan_status             7151 non-null object\n",
      "loan_amnt               7151 non-null int64\n",
      "int_rate                7151 non-null float64\n",
      "installment             7151 non-null float64\n",
      "home_ownership          7151 non-null object\n",
      "annual_inc              7151 non-null float64\n",
      "verification_status     7151 non-null object\n",
      "revol_bal               7151 non-null int64\n",
      "revol_util              7148 non-null float64\n",
      "total_acc               7151 non-null int64\n",
      "acc_open_past_24mths    7151 non-null int64\n",
      "total_pymnt             7151 non-null float64\n",
      "dtypes: float64(5), int64(6), object(5)\n",
      "memory usage: 893.9+ KB\n"
     ]
    }
   ],
   "source": [
    "data.info()"
   ]
  },
  {
   "cell_type": "code",
   "execution_count": 53,
   "metadata": {
    "collapsed": false
   },
   "outputs": [
    {
     "data": {
      "text/html": [
       "<div>\n",
       "<table border=\"1\" class=\"dataframe\">\n",
       "  <thead>\n",
       "    <tr style=\"text-align: right;\">\n",
       "      <th></th>\n",
       "      <th>id</th>\n",
       "      <th>member_id</th>\n",
       "      <th>loan_amnt</th>\n",
       "      <th>int_rate</th>\n",
       "      <th>installment</th>\n",
       "      <th>annual_inc</th>\n",
       "      <th>revol_bal</th>\n",
       "      <th>revol_util</th>\n",
       "      <th>total_acc</th>\n",
       "      <th>acc_open_past_24mths</th>\n",
       "      <th>total_pymnt</th>\n",
       "    </tr>\n",
       "  </thead>\n",
       "  <tbody>\n",
       "    <tr>\n",
       "      <th>count</th>\n",
       "      <td>7.151000e+03</td>\n",
       "      <td>7.151000e+03</td>\n",
       "      <td>7151.000000</td>\n",
       "      <td>7151.000000</td>\n",
       "      <td>7151.000000</td>\n",
       "      <td>7.151000e+03</td>\n",
       "      <td>7151.000000</td>\n",
       "      <td>7148.000000</td>\n",
       "      <td>7151.000000</td>\n",
       "      <td>7151.000000</td>\n",
       "      <td>7151.000000</td>\n",
       "    </tr>\n",
       "    <tr>\n",
       "      <th>mean</th>\n",
       "      <td>5.106186e+07</td>\n",
       "      <td>5.453440e+07</td>\n",
       "      <td>13579.373514</td>\n",
       "      <td>10.431779</td>\n",
       "      <td>440.715538</td>\n",
       "      <td>7.624496e+04</td>\n",
       "      <td>18807.828695</td>\n",
       "      <td>53.768145</td>\n",
       "      <td>25.880856</td>\n",
       "      <td>4.894840</td>\n",
       "      <td>12830.463838</td>\n",
       "    </tr>\n",
       "    <tr>\n",
       "      <th>std</th>\n",
       "      <td>9.419570e+06</td>\n",
       "      <td>1.003211e+07</td>\n",
       "      <td>8148.555935</td>\n",
       "      <td>3.316630</td>\n",
       "      <td>266.743864</td>\n",
       "      <td>5.456859e+04</td>\n",
       "      <td>26051.747852</td>\n",
       "      <td>22.725538</td>\n",
       "      <td>12.494253</td>\n",
       "      <td>3.237648</td>\n",
       "      <td>8946.447110</td>\n",
       "    </tr>\n",
       "    <tr>\n",
       "      <th>min</th>\n",
       "      <td>5.800840e+05</td>\n",
       "      <td>7.457430e+05</td>\n",
       "      <td>1000.000000</td>\n",
       "      <td>5.320000</td>\n",
       "      <td>30.850000</td>\n",
       "      <td>8.000000e+03</td>\n",
       "      <td>0.000000</td>\n",
       "      <td>0.000000</td>\n",
       "      <td>4.000000</td>\n",
       "      <td>0.000000</td>\n",
       "      <td>0.000000</td>\n",
       "    </tr>\n",
       "    <tr>\n",
       "      <th>25%</th>\n",
       "      <td>4.229390e+07</td>\n",
       "      <td>4.525578e+07</td>\n",
       "      <td>7500.000000</td>\n",
       "      <td>7.890000</td>\n",
       "      <td>243.130000</td>\n",
       "      <td>4.500000e+04</td>\n",
       "      <td>7328.500000</td>\n",
       "      <td>NaN</td>\n",
       "      <td>17.000000</td>\n",
       "      <td>3.000000</td>\n",
       "      <td>6162.895000</td>\n",
       "    </tr>\n",
       "    <tr>\n",
       "      <th>50%</th>\n",
       "      <td>5.044621e+07</td>\n",
       "      <td>5.381612e+07</td>\n",
       "      <td>11425.000000</td>\n",
       "      <td>9.990000</td>\n",
       "      <td>367.190000</td>\n",
       "      <td>6.500000e+04</td>\n",
       "      <td>12781.000000</td>\n",
       "      <td>NaN</td>\n",
       "      <td>24.000000</td>\n",
       "      <td>4.000000</td>\n",
       "      <td>10605.060000</td>\n",
       "    </tr>\n",
       "    <tr>\n",
       "      <th>75%</th>\n",
       "      <td>5.923142e+07</td>\n",
       "      <td>6.311782e+07</td>\n",
       "      <td>18600.000000</td>\n",
       "      <td>12.690000</td>\n",
       "      <td>609.360000</td>\n",
       "      <td>9.300000e+04</td>\n",
       "      <td>22059.000000</td>\n",
       "      <td>NaN</td>\n",
       "      <td>33.000000</td>\n",
       "      <td>7.000000</td>\n",
       "      <td>17410.045000</td>\n",
       "    </tr>\n",
       "    <tr>\n",
       "      <th>max</th>\n",
       "      <td>6.861588e+07</td>\n",
       "      <td>7.351869e+07</td>\n",
       "      <td>35000.000000</td>\n",
       "      <td>25.800000</td>\n",
       "      <td>1309.490000</td>\n",
       "      <td>1.900000e+06</td>\n",
       "      <td>838698.000000</td>\n",
       "      <td>113.100000</td>\n",
       "      <td>100.000000</td>\n",
       "      <td>25.000000</td>\n",
       "      <td>44465.780009</td>\n",
       "    </tr>\n",
       "  </tbody>\n",
       "</table>\n",
       "</div>"
      ],
      "text/plain": [
       "                 id     member_id     loan_amnt     int_rate  installment  \\\n",
       "count  7.151000e+03  7.151000e+03   7151.000000  7151.000000  7151.000000   \n",
       "mean   5.106186e+07  5.453440e+07  13579.373514    10.431779   440.715538   \n",
       "std    9.419570e+06  1.003211e+07   8148.555935     3.316630   266.743864   \n",
       "min    5.800840e+05  7.457430e+05   1000.000000     5.320000    30.850000   \n",
       "25%    4.229390e+07  4.525578e+07   7500.000000     7.890000   243.130000   \n",
       "50%    5.044621e+07  5.381612e+07  11425.000000     9.990000   367.190000   \n",
       "75%    5.923142e+07  6.311782e+07  18600.000000    12.690000   609.360000   \n",
       "max    6.861588e+07  7.351869e+07  35000.000000    25.800000  1309.490000   \n",
       "\n",
       "         annual_inc      revol_bal   revol_util    total_acc  \\\n",
       "count  7.151000e+03    7151.000000  7148.000000  7151.000000   \n",
       "mean   7.624496e+04   18807.828695    53.768145    25.880856   \n",
       "std    5.456859e+04   26051.747852    22.725538    12.494253   \n",
       "min    8.000000e+03       0.000000     0.000000     4.000000   \n",
       "25%    4.500000e+04    7328.500000          NaN    17.000000   \n",
       "50%    6.500000e+04   12781.000000          NaN    24.000000   \n",
       "75%    9.300000e+04   22059.000000          NaN    33.000000   \n",
       "max    1.900000e+06  838698.000000   113.100000   100.000000   \n",
       "\n",
       "       acc_open_past_24mths   total_pymnt  \n",
       "count           7151.000000   7151.000000  \n",
       "mean               4.894840  12830.463838  \n",
       "std                3.237648   8946.447110  \n",
       "min                0.000000      0.000000  \n",
       "25%                3.000000   6162.895000  \n",
       "50%                4.000000  10605.060000  \n",
       "75%                7.000000  17410.045000  \n",
       "max               25.000000  44465.780009  "
      ]
     },
     "execution_count": 53,
     "metadata": {},
     "output_type": "execute_result"
    }
   ],
   "source": [
    "data.describe()"
   ]
  },
  {
   "cell_type": "code",
   "execution_count": 54,
   "metadata": {
    "collapsed": false
   },
   "outputs": [
    {
     "data": {
      "text/plain": [
       "7151"
      ]
     },
     "execution_count": 54,
     "metadata": {},
     "output_type": "execute_result"
    }
   ],
   "source": [
    "len(data.member_id.unique())"
   ]
  },
  {
   "cell_type": "code",
   "execution_count": 55,
   "metadata": {
    "collapsed": false
   },
   "outputs": [
    {
     "data": {
      "text/plain": [
       "7151"
      ]
     },
     "execution_count": 55,
     "metadata": {},
     "output_type": "execute_result"
    }
   ],
   "source": [
    "len(data.id.unique())"
   ]
  },
  {
   "cell_type": "code",
   "execution_count": 56,
   "metadata": {
    "collapsed": false
   },
   "outputs": [],
   "source": [
    "data.drop([\"term\", \"purpose\", \"member_id\"], axis = 1, inplace=True)"
   ]
  },
  {
   "cell_type": "code",
   "execution_count": 57,
   "metadata": {
    "collapsed": false,
    "scrolled": false
   },
   "outputs": [],
   "source": [
    "data.dropna(inplace=True)"
   ]
  },
  {
   "cell_type": "code",
   "execution_count": 58,
   "metadata": {
    "collapsed": false
   },
   "outputs": [
    {
     "data": {
      "text/html": [
       "<div>\n",
       "<table border=\"1\" class=\"dataframe\">\n",
       "  <thead>\n",
       "    <tr style=\"text-align: right;\">\n",
       "      <th></th>\n",
       "      <th>id</th>\n",
       "      <th>loan_status</th>\n",
       "      <th>loan_amnt</th>\n",
       "      <th>int_rate</th>\n",
       "      <th>installment</th>\n",
       "      <th>home_ownership</th>\n",
       "      <th>annual_inc</th>\n",
       "      <th>verification_status</th>\n",
       "      <th>revol_bal</th>\n",
       "      <th>revol_util</th>\n",
       "      <th>total_acc</th>\n",
       "      <th>acc_open_past_24mths</th>\n",
       "      <th>total_pymnt</th>\n",
       "    </tr>\n",
       "  </thead>\n",
       "  <tbody>\n",
       "    <tr>\n",
       "      <th>0</th>\n",
       "      <td>62286683</td>\n",
       "      <td>Fully Paid</td>\n",
       "      <td>24000</td>\n",
       "      <td>7.89</td>\n",
       "      <td>750.86</td>\n",
       "      <td>MORTGAGE</td>\n",
       "      <td>237500.0</td>\n",
       "      <td>Source Verified</td>\n",
       "      <td>28279</td>\n",
       "      <td>36.9</td>\n",
       "      <td>25</td>\n",
       "      <td>5</td>\n",
       "      <td>24948.450004</td>\n",
       "    </tr>\n",
       "    <tr>\n",
       "      <th>1</th>\n",
       "      <td>46314315</td>\n",
       "      <td>Fully Paid</td>\n",
       "      <td>8000</td>\n",
       "      <td>6.68</td>\n",
       "      <td>245.85</td>\n",
       "      <td>RENT</td>\n",
       "      <td>41000.0</td>\n",
       "      <td>Not Verified</td>\n",
       "      <td>24377</td>\n",
       "      <td>51.0</td>\n",
       "      <td>29</td>\n",
       "      <td>2</td>\n",
       "      <td>8351.630000</td>\n",
       "    </tr>\n",
       "    <tr>\n",
       "      <th>2</th>\n",
       "      <td>51317198</td>\n",
       "      <td>Fully Paid</td>\n",
       "      <td>12175</td>\n",
       "      <td>9.17</td>\n",
       "      <td>388.13</td>\n",
       "      <td>MORTGAGE</td>\n",
       "      <td>100000.0</td>\n",
       "      <td>Not Verified</td>\n",
       "      <td>21329</td>\n",
       "      <td>64.6</td>\n",
       "      <td>17</td>\n",
       "      <td>3</td>\n",
       "      <td>13205.910000</td>\n",
       "    </tr>\n",
       "    <tr>\n",
       "      <th>3</th>\n",
       "      <td>42984750</td>\n",
       "      <td>Charged Off</td>\n",
       "      <td>6400</td>\n",
       "      <td>6.92</td>\n",
       "      <td>197.38</td>\n",
       "      <td>RENT</td>\n",
       "      <td>41900.0</td>\n",
       "      <td>Source Verified</td>\n",
       "      <td>14936</td>\n",
       "      <td>73.2</td>\n",
       "      <td>15</td>\n",
       "      <td>1</td>\n",
       "      <td>3550.380000</td>\n",
       "    </tr>\n",
       "    <tr>\n",
       "      <th>4</th>\n",
       "      <td>42181434</td>\n",
       "      <td>Fully Paid</td>\n",
       "      <td>12600</td>\n",
       "      <td>6.68</td>\n",
       "      <td>387.22</td>\n",
       "      <td>OWN</td>\n",
       "      <td>73800.0</td>\n",
       "      <td>Not Verified</td>\n",
       "      <td>9904</td>\n",
       "      <td>20.7</td>\n",
       "      <td>25</td>\n",
       "      <td>4</td>\n",
       "      <td>13125.770000</td>\n",
       "    </tr>\n",
       "  </tbody>\n",
       "</table>\n",
       "</div>"
      ],
      "text/plain": [
       "         id  loan_status  loan_amnt  int_rate  installment home_ownership  \\\n",
       "0  62286683   Fully Paid      24000      7.89       750.86       MORTGAGE   \n",
       "1  46314315   Fully Paid       8000      6.68       245.85           RENT   \n",
       "2  51317198   Fully Paid      12175      9.17       388.13       MORTGAGE   \n",
       "3  42984750  Charged Off       6400      6.92       197.38           RENT   \n",
       "4  42181434   Fully Paid      12600      6.68       387.22            OWN   \n",
       "\n",
       "   annual_inc verification_status  revol_bal  revol_util  total_acc  \\\n",
       "0    237500.0     Source Verified      28279        36.9         25   \n",
       "1     41000.0        Not Verified      24377        51.0         29   \n",
       "2    100000.0        Not Verified      21329        64.6         17   \n",
       "3     41900.0     Source Verified      14936        73.2         15   \n",
       "4     73800.0        Not Verified       9904        20.7         25   \n",
       "\n",
       "   acc_open_past_24mths   total_pymnt  \n",
       "0                     5  24948.450004  \n",
       "1                     2   8351.630000  \n",
       "2                     3  13205.910000  \n",
       "3                     1   3550.380000  \n",
       "4                     4  13125.770000  "
      ]
     },
     "execution_count": 58,
     "metadata": {},
     "output_type": "execute_result"
    }
   ],
   "source": [
    "data.head()"
   ]
  },
  {
   "cell_type": "code",
   "execution_count": 59,
   "metadata": {
    "collapsed": true
   },
   "outputs": [],
   "source": [
    "data.verification_status = data.verification_status.apply(lambda x: x.replace(\"Source Verified\", \"Verified\"))"
   ]
  },
  {
   "cell_type": "code",
   "execution_count": 60,
   "metadata": {
    "collapsed": false
   },
   "outputs": [],
   "source": [
    "data.verification_status = data.verification_status.apply(lambda x: 1 if x == \"Verified\" else 0)"
   ]
  },
  {
   "cell_type": "code",
   "execution_count": 62,
   "metadata": {
    "collapsed": true
   },
   "outputs": [],
   "source": [
    "data.loan_status = data.loan_status.apply(lambda x: 1 if x == \"Fully Paid\" else 0)"
   ]
  },
  {
   "cell_type": "code",
   "execution_count": 64,
   "metadata": {
    "collapsed": true
   },
   "outputs": [],
   "source": [
    "data = pd.get_dummies(data=data, drop_first=True)"
   ]
  },
  {
   "cell_type": "code",
   "execution_count": 65,
   "metadata": {
    "collapsed": false
   },
   "outputs": [
    {
     "data": {
      "text/html": [
       "<div>\n",
       "<table border=\"1\" class=\"dataframe\">\n",
       "  <thead>\n",
       "    <tr style=\"text-align: right;\">\n",
       "      <th></th>\n",
       "      <th>id</th>\n",
       "      <th>loan_status</th>\n",
       "      <th>loan_amnt</th>\n",
       "      <th>int_rate</th>\n",
       "      <th>installment</th>\n",
       "      <th>annual_inc</th>\n",
       "      <th>verification_status</th>\n",
       "      <th>revol_bal</th>\n",
       "      <th>revol_util</th>\n",
       "      <th>total_acc</th>\n",
       "      <th>acc_open_past_24mths</th>\n",
       "      <th>total_pymnt</th>\n",
       "      <th>home_ownership_OWN</th>\n",
       "      <th>home_ownership_RENT</th>\n",
       "    </tr>\n",
       "  </thead>\n",
       "  <tbody>\n",
       "    <tr>\n",
       "      <th>0</th>\n",
       "      <td>62286683</td>\n",
       "      <td>1</td>\n",
       "      <td>24000</td>\n",
       "      <td>7.89</td>\n",
       "      <td>750.86</td>\n",
       "      <td>237500.0</td>\n",
       "      <td>1</td>\n",
       "      <td>28279</td>\n",
       "      <td>36.9</td>\n",
       "      <td>25</td>\n",
       "      <td>5</td>\n",
       "      <td>24948.450004</td>\n",
       "      <td>0.0</td>\n",
       "      <td>0.0</td>\n",
       "    </tr>\n",
       "    <tr>\n",
       "      <th>1</th>\n",
       "      <td>46314315</td>\n",
       "      <td>1</td>\n",
       "      <td>8000</td>\n",
       "      <td>6.68</td>\n",
       "      <td>245.85</td>\n",
       "      <td>41000.0</td>\n",
       "      <td>0</td>\n",
       "      <td>24377</td>\n",
       "      <td>51.0</td>\n",
       "      <td>29</td>\n",
       "      <td>2</td>\n",
       "      <td>8351.630000</td>\n",
       "      <td>0.0</td>\n",
       "      <td>1.0</td>\n",
       "    </tr>\n",
       "    <tr>\n",
       "      <th>2</th>\n",
       "      <td>51317198</td>\n",
       "      <td>1</td>\n",
       "      <td>12175</td>\n",
       "      <td>9.17</td>\n",
       "      <td>388.13</td>\n",
       "      <td>100000.0</td>\n",
       "      <td>0</td>\n",
       "      <td>21329</td>\n",
       "      <td>64.6</td>\n",
       "      <td>17</td>\n",
       "      <td>3</td>\n",
       "      <td>13205.910000</td>\n",
       "      <td>0.0</td>\n",
       "      <td>0.0</td>\n",
       "    </tr>\n",
       "    <tr>\n",
       "      <th>3</th>\n",
       "      <td>42984750</td>\n",
       "      <td>0</td>\n",
       "      <td>6400</td>\n",
       "      <td>6.92</td>\n",
       "      <td>197.38</td>\n",
       "      <td>41900.0</td>\n",
       "      <td>1</td>\n",
       "      <td>14936</td>\n",
       "      <td>73.2</td>\n",
       "      <td>15</td>\n",
       "      <td>1</td>\n",
       "      <td>3550.380000</td>\n",
       "      <td>0.0</td>\n",
       "      <td>1.0</td>\n",
       "    </tr>\n",
       "    <tr>\n",
       "      <th>4</th>\n",
       "      <td>42181434</td>\n",
       "      <td>1</td>\n",
       "      <td>12600</td>\n",
       "      <td>6.68</td>\n",
       "      <td>387.22</td>\n",
       "      <td>73800.0</td>\n",
       "      <td>0</td>\n",
       "      <td>9904</td>\n",
       "      <td>20.7</td>\n",
       "      <td>25</td>\n",
       "      <td>4</td>\n",
       "      <td>13125.770000</td>\n",
       "      <td>1.0</td>\n",
       "      <td>0.0</td>\n",
       "    </tr>\n",
       "  </tbody>\n",
       "</table>\n",
       "</div>"
      ],
      "text/plain": [
       "         id  loan_status  loan_amnt  int_rate  installment  annual_inc  \\\n",
       "0  62286683            1      24000      7.89       750.86    237500.0   \n",
       "1  46314315            1       8000      6.68       245.85     41000.0   \n",
       "2  51317198            1      12175      9.17       388.13    100000.0   \n",
       "3  42984750            0       6400      6.92       197.38     41900.0   \n",
       "4  42181434            1      12600      6.68       387.22     73800.0   \n",
       "\n",
       "   verification_status  revol_bal  revol_util  total_acc  \\\n",
       "0                    1      28279        36.9         25   \n",
       "1                    0      24377        51.0         29   \n",
       "2                    0      21329        64.6         17   \n",
       "3                    1      14936        73.2         15   \n",
       "4                    0       9904        20.7         25   \n",
       "\n",
       "   acc_open_past_24mths   total_pymnt  home_ownership_OWN  home_ownership_RENT  \n",
       "0                     5  24948.450004                 0.0                  0.0  \n",
       "1                     2   8351.630000                 0.0                  1.0  \n",
       "2                     3  13205.910000                 0.0                  0.0  \n",
       "3                     1   3550.380000                 0.0                  1.0  \n",
       "4                     4  13125.770000                 1.0                  0.0  "
      ]
     },
     "execution_count": 65,
     "metadata": {},
     "output_type": "execute_result"
    }
   ],
   "source": [
    "data.head()"
   ]
  },
  {
   "cell_type": "code",
   "execution_count": 66,
   "metadata": {
    "collapsed": false
   },
   "outputs": [
    {
     "name": "stdout",
     "output_type": "stream",
     "text": [
      "<class 'pandas.core.frame.DataFrame'>\n",
      "Int64Index: 7148 entries, 0 to 7150\n",
      "Data columns (total 14 columns):\n",
      "id                      7148 non-null int64\n",
      "loan_status             7148 non-null int64\n",
      "loan_amnt               7148 non-null int64\n",
      "int_rate                7148 non-null float64\n",
      "installment             7148 non-null float64\n",
      "annual_inc              7148 non-null float64\n",
      "verification_status     7148 non-null int64\n",
      "revol_bal               7148 non-null int64\n",
      "revol_util              7148 non-null float64\n",
      "total_acc               7148 non-null int64\n",
      "acc_open_past_24mths    7148 non-null int64\n",
      "total_pymnt             7148 non-null float64\n",
      "home_ownership_OWN      7148 non-null float64\n",
      "home_ownership_RENT     7148 non-null float64\n",
      "dtypes: float64(7), int64(7)\n",
      "memory usage: 837.7 KB\n"
     ]
    }
   ],
   "source": [
    "data.info()"
   ]
  },
  {
   "cell_type": "code",
   "execution_count": 67,
   "metadata": {
    "collapsed": true
   },
   "outputs": [],
   "source": [
    "data.to_csv(\"data/clean_capstone_data.csv\", i)"
   ]
  },
  {
   "cell_type": "code",
   "execution_count": null,
   "metadata": {
    "collapsed": true
   },
   "outputs": [],
   "source": []
  }
 ],
 "metadata": {
  "kernelspec": {
   "display_name": "Python 2",
   "language": "python",
   "name": "python2"
  },
  "language_info": {
   "codemirror_mode": {
    "name": "ipython",
    "version": 2
   },
   "file_extension": ".py",
   "mimetype": "text/x-python",
   "name": "python",
   "nbconvert_exporter": "python",
   "pygments_lexer": "ipython2",
   "version": "2.7.12"
  }
 },
 "nbformat": 4,
 "nbformat_minor": 0
}
