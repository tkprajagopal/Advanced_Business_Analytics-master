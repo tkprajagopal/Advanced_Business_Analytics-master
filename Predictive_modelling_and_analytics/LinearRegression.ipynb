{
 "cells": [
  {
   "cell_type": "code",
   "execution_count": 14,
   "metadata": {
    "collapsed": true
   },
   "outputs": [],
   "source": [
    "import pandas as pd\n",
    "import numpy as np\n",
    "from sklearn.linear_model import LinearRegression as LR\n",
    "from sklearn.cross_validation import train_test_split"
   ]
  },
  {
   "cell_type": "code",
   "execution_count": 29,
   "metadata": {
    "collapsed": true
   },
   "outputs": [],
   "source": [
    "data = pd.read_csv('data/crp_cleandata.csv')"
   ]
  },
  {
   "cell_type": "markdown",
   "metadata": {},
   "source": [
    "In this assignment we are continuing to work with customer reward programs (review Week 1 Application Assignment if you haven’t completed it). An analyst performed some preliminary data preprocessing on the raw data and shared the data with you in the file crp_cleandata.xlsx (see download link below). Note that some additional columns are created and some data columns are scaled. In this exercise, you will complete a predictive modeling task where the target variable is continuous based on the data in the shared file. First remove all rows where either the Reward or NumStores column takes the value 0. Also remove all rows where the rewards do not expire (ExpirationMonth=999). Consider linear regression models with ExpirationMonth column as the target variable."
   ]
  },
  {
   "cell_type": "code",
   "execution_count": 30,
   "metadata": {
    "collapsed": false
   },
   "outputs": [],
   "source": [
    "data = data[(data[\"Reward\"] > 0) & (data[\"NumStores\"] > 0) & (data[\"ExpirationMonth\"] != \"999\")]"
   ]
  },
  {
   "cell_type": "code",
   "execution_count": 31,
   "metadata": {
    "collapsed": false,
    "scrolled": true
   },
   "outputs": [],
   "source": [
    "data.reset_index(inplace=True, drop=True)"
   ]
  },
  {
   "cell_type": "code",
   "execution_count": 39,
   "metadata": {
    "collapsed": false
   },
   "outputs": [],
   "source": [
    "data[\"ExpirationMonth\"] = data[\"ExpirationMonth\"].astype(float)"
   ]
  },
  {
   "cell_type": "markdown",
   "metadata": {},
   "source": [
    "Find the model with one predictor variable and the highest R-squared. Consider the following set of predictor variables: Salerank, X2013USSales, X2013WorldSales, NumStores,RewardSize, and ProfitMargin. \n",
    "Which variable did you choose?"
   ]
  },
  {
   "cell_type": "code",
   "execution_count": 120,
   "metadata": {
    "collapsed": true
   },
   "outputs": [],
   "source": [
    "features = [\"Salerank\", \"X2013USSales\", \"X2013WorldSales\", \"RewardSize\", \"ProfitMargin\"]"
   ]
  },
  {
   "cell_type": "code",
   "execution_count": 128,
   "metadata": {
    "collapsed": true
   },
   "outputs": [],
   "source": [
    "y = data[\"ExpirationMonth\"].values.reshape(46, 1)"
   ]
  },
  {
   "cell_type": "code",
   "execution_count": 61,
   "metadata": {
    "collapsed": false
   },
   "outputs": [
    {
     "data": {
      "text/plain": [
       "(46,)"
      ]
     },
     "execution_count": 61,
     "metadata": {},
     "output_type": "execute_result"
    }
   ],
   "source": []
  },
  {
   "cell_type": "code",
   "execution_count": 58,
   "metadata": {
    "collapsed": true
   },
   "outputs": [],
   "source": [
    "lr = LR()"
   ]
  },
  {
   "cell_type": "code",
   "execution_count": 129,
   "metadata": {
    "collapsed": true
   },
   "outputs": [],
   "source": [
    "test_x = data['Salerank'].values.reshape(46, 1)"
   ]
  },
  {
   "cell_type": "code",
   "execution_count": 130,
   "metadata": {
    "collapsed": false
   },
   "outputs": [],
   "source": [
    "model = lr.fit(test_x, y)"
   ]
  },
  {
   "cell_type": "code",
   "execution_count": 131,
   "metadata": {
    "collapsed": false,
    "scrolled": true
   },
   "outputs": [
    {
     "data": {
      "text/plain": [
       "0.062154267461252077"
      ]
     },
     "execution_count": 131,
     "metadata": {},
     "output_type": "execute_result"
    }
   ],
   "source": [
    "model.score(test_x, y)"
   ]
  },
  {
   "cell_type": "code",
   "execution_count": 132,
   "metadata": {
    "collapsed": false
   },
   "outputs": [
    {
     "data": {
      "text/plain": [
       "array([ 10.43886397])"
      ]
     },
     "execution_count": 132,
     "metadata": {},
     "output_type": "execute_result"
    }
   ],
   "source": [
    "model.intercept_"
   ]
  },
  {
   "cell_type": "code",
   "execution_count": 134,
   "metadata": {
    "collapsed": false
   },
   "outputs": [],
   "source": [
    "pred = model.predict(test_x)"
   ]
  },
  {
   "cell_type": "code",
   "execution_count": 137,
   "metadata": {
    "collapsed": false
   },
   "outputs": [
    {
     "data": {
      "text/plain": [
       "38"
      ]
     },
     "execution_count": 137,
     "metadata": {},
     "output_type": "execute_result"
    }
   ],
   "source": [
    "np.argmax(abs(pred-y))"
   ]
  },
  {
   "cell_type": "code",
   "execution_count": 140,
   "metadata": {
    "collapsed": false
   },
   "outputs": [
    {
     "data": {
      "text/plain": [
       "'Subway'"
      ]
     },
     "execution_count": 140,
     "metadata": {},
     "output_type": "execute_result"
    }
   ],
   "source": [
    "data.loc[38]['Retailer']"
   ]
  },
  {
   "cell_type": "code",
   "execution_count": 93,
   "metadata": {
    "collapsed": false
   },
   "outputs": [
    {
     "name": "stdout",
     "output_type": "stream",
     "text": [
      "Salerank R^2= 0.0621542674613 intercept= [ 10.43886397] slope= [[-0.06486178]]\n",
      "X2013USSales R^2= 0.00843068655898 intercept= [ 7.908877] slope= [[-35.65556047]]\n",
      "X2013WorldSales R^2= 0.00510513333909 intercept= [ 7.80172806] slope= [[-23.49759515]]\n",
      "NumStores R^2= 0.253714718743 intercept= [ 4.82846651] slope= [[ 0.88984632]]\n",
      "RewardSize R^2= 0.0204022561058 intercept= [ 8.36590472] slope= [[-0.15332229]]\n",
      "ProfitMargin R^2= 0.00953160707593 intercept= [ 8.55066839] slope= [[-0.02689186]]\n"
     ]
    }
   ],
   "source": [
    "for feature in features:\n",
    "    X = data[[\"NumStores\", feature]].values.reshape(46, 2)\n",
    "    model = lr.fit(X, y)\n",
    "    predicted = model.predict(X)\n",
    "    score = model.score(X, y)\n",
    "    intercept = model.intercept_\n",
    "    slope = model.coef_\n",
    "    print feature, \"R^2=\", score, \"intercept=\", intercept, \"slope=\", slope"
   ]
  },
  {
   "cell_type": "markdown",
   "metadata": {},
   "source": [
    "Data transformation is a great way to improve model fit. Now consider the log transformation for the model identified in the previous question. You can choose to transform neither of them, one of them, or both of them. You should have four different models.\n",
    "* Model 1: neither variable is transformed; this gives you the same model as in the previous question.\n",
    "* Model 2: only the target variable is transformed\n",
    "* Model 3: only the explanatory variable is transformed\n",
    "* Model 4: both variables are transformed.\n",
    "Report the R-squared values of all four models."
   ]
  },
  {
   "cell_type": "code",
   "execution_count": 94,
   "metadata": {
    "collapsed": true
   },
   "outputs": [],
   "source": [
    "transformed_data = data.copy()"
   ]
  },
  {
   "cell_type": "code",
   "execution_count": 96,
   "metadata": {
    "collapsed": false
   },
   "outputs": [],
   "source": [
    "transformed_data = transformed_data[['NumStores', 'ExpirationMonth']]"
   ]
  },
  {
   "cell_type": "code",
   "execution_count": 102,
   "metadata": {
    "collapsed": true
   },
   "outputs": [
    {
     "name": "stderr",
     "output_type": "stream",
     "text": [
      "/Users/asalmitrofanov/anaconda2/lib/python2.7/site-packages/ipykernel/__main__.py:1: SettingWithCopyWarning: \n",
      "A value is trying to be set on a copy of a slice from a DataFrame.\n",
      "Try using .loc[row_indexer,col_indexer] = value instead\n",
      "\n",
      "See the caveats in the documentation: http://pandas.pydata.org/pandas-docs/stable/indexing.html#indexing-view-versus-copy\n",
      "  if __name__ == '__main__':\n"
     ]
    }
   ],
   "source": [
    "transformed_data[\"LogY\"] = np.log(transformed_data[\"ExpirationMonth\"])"
   ]
  },
  {
   "cell_type": "code",
   "execution_count": 104,
   "metadata": {
    "collapsed": true
   },
   "outputs": [
    {
     "name": "stderr",
     "output_type": "stream",
     "text": [
      "/Users/asalmitrofanov/anaconda2/lib/python2.7/site-packages/ipykernel/__main__.py:1: SettingWithCopyWarning: \n",
      "A value is trying to be set on a copy of a slice from a DataFrame.\n",
      "Try using .loc[row_indexer,col_indexer] = value instead\n",
      "\n",
      "See the caveats in the documentation: http://pandas.pydata.org/pandas-docs/stable/indexing.html#indexing-view-versus-copy\n",
      "  if __name__ == '__main__':\n"
     ]
    }
   ],
   "source": [
    "transformed_data[\"LogX\"] = np.log(transformed_data[\"NumStores\"])"
   ]
  },
  {
   "cell_type": "code",
   "execution_count": 108,
   "metadata": {
    "collapsed": true
   },
   "outputs": [],
   "source": [
    "lr = LR()"
   ]
  },
  {
   "cell_type": "code",
   "execution_count": 116,
   "metadata": {
    "collapsed": false
   },
   "outputs": [
    {
     "data": {
      "text/plain": [
       "0.25371471874343032"
      ]
     },
     "execution_count": 116,
     "metadata": {},
     "output_type": "execute_result"
    }
   ],
   "source": [
    "y_1 = transformed_data['ExpirationMonth'].values.reshape(46,1)\n",
    "x_1 = transformed_data['NumStores'].values.reshape(46,1)\n",
    "model_1 = lr.fit(x_1, y_1)\n",
    "model_1.predict(x_1)\n",
    "model_1.score(x_1, y_1)"
   ]
  },
  {
   "cell_type": "code",
   "execution_count": 117,
   "metadata": {
    "collapsed": false
   },
   "outputs": [
    {
     "data": {
      "text/plain": [
       "0.070419836120243939"
      ]
     },
     "execution_count": 117,
     "metadata": {},
     "output_type": "execute_result"
    }
   ],
   "source": [
    "y_2 = transformed_data['LogY'].values.reshape(46,1)\n",
    "x_2 = transformed_data['NumStores'].values.reshape(46,1)\n",
    "model_2 = lr.fit(x_2, y_2)\n",
    "model_2.predict(x_2)\n",
    "model_2.score(x_2, y_2)"
   ]
  },
  {
   "cell_type": "code",
   "execution_count": 118,
   "metadata": {
    "collapsed": false
   },
   "outputs": [
    {
     "data": {
      "text/plain": [
       "0.14469682613098556"
      ]
     },
     "execution_count": 118,
     "metadata": {},
     "output_type": "execute_result"
    }
   ],
   "source": [
    "y_3 = transformed_data['ExpirationMonth'].values.reshape(46,1)\n",
    "x_3 = transformed_data['LogX'].values.reshape(46,1)\n",
    "model_3 = lr.fit(x_3, y_3)\n",
    "model_3.predict(x_3)\n",
    "model_3.score(x_3, y_3)"
   ]
  },
  {
   "cell_type": "code",
   "execution_count": 119,
   "metadata": {
    "collapsed": false
   },
   "outputs": [
    {
     "data": {
      "text/plain": [
       "0.065266847624963931"
      ]
     },
     "execution_count": 119,
     "metadata": {},
     "output_type": "execute_result"
    }
   ],
   "source": [
    "y_4 = transformed_data['LogY'].values.reshape(46,1)\n",
    "x_4 = transformed_data['LogX'].values.reshape(46,1)\n",
    "model_4 = lr.fit(x_4, y_4)\n",
    "model_4.predict(x_4)\n",
    "model_4.score(x_4, y_4)"
   ]
  },
  {
   "cell_type": "code",
   "execution_count": 105,
   "metadata": {
    "collapsed": false,
    "scrolled": true
   },
   "outputs": [
    {
     "data": {
      "text/html": [
       "<div>\n",
       "<table border=\"1\" class=\"dataframe\">\n",
       "  <thead>\n",
       "    <tr style=\"text-align: right;\">\n",
       "      <th></th>\n",
       "      <th>NumStores</th>\n",
       "      <th>ExpirationMonth</th>\n",
       "      <th>LogY</th>\n",
       "      <th>LogX</th>\n",
       "    </tr>\n",
       "  </thead>\n",
       "  <tbody>\n",
       "    <tr>\n",
       "      <th>0</th>\n",
       "      <td>7.974</td>\n",
       "      <td>12.0</td>\n",
       "      <td>2.484907</td>\n",
       "      <td>2.076186</td>\n",
       "    </tr>\n",
       "    <tr>\n",
       "      <th>1</th>\n",
       "      <td>4.023</td>\n",
       "      <td>2.0</td>\n",
       "      <td>0.693147</td>\n",
       "      <td>1.392028</td>\n",
       "    </tr>\n",
       "    <tr>\n",
       "      <th>2</th>\n",
       "      <td>0.767</td>\n",
       "      <td>1.0</td>\n",
       "      <td>0.000000</td>\n",
       "      <td>-0.265268</td>\n",
       "    </tr>\n",
       "    <tr>\n",
       "      <th>3</th>\n",
       "      <td>3.854</td>\n",
       "      <td>1.0</td>\n",
       "      <td>0.000000</td>\n",
       "      <td>1.349112</td>\n",
       "    </tr>\n",
       "    <tr>\n",
       "      <th>4</th>\n",
       "      <td>4.802</td>\n",
       "      <td>3.0</td>\n",
       "      <td>1.098612</td>\n",
       "      <td>1.569032</td>\n",
       "    </tr>\n",
       "    <tr>\n",
       "      <th>5</th>\n",
       "      <td>1.492</td>\n",
       "      <td>12.0</td>\n",
       "      <td>2.484907</td>\n",
       "      <td>0.400118</td>\n",
       "    </tr>\n",
       "    <tr>\n",
       "      <th>6</th>\n",
       "      <td>0.684</td>\n",
       "      <td>3.0</td>\n",
       "      <td>1.098612</td>\n",
       "      <td>-0.379797</td>\n",
       "    </tr>\n",
       "    <tr>\n",
       "      <th>7</th>\n",
       "      <td>0.201</td>\n",
       "      <td>6.0</td>\n",
       "      <td>1.791759</td>\n",
       "      <td>-1.604450</td>\n",
       "    </tr>\n",
       "    <tr>\n",
       "      <th>8</th>\n",
       "      <td>1.288</td>\n",
       "      <td>3.0</td>\n",
       "      <td>1.098612</td>\n",
       "      <td>0.253091</td>\n",
       "    </tr>\n",
       "    <tr>\n",
       "      <th>9</th>\n",
       "      <td>1.309</td>\n",
       "      <td>4.0</td>\n",
       "      <td>1.386294</td>\n",
       "      <td>0.269263</td>\n",
       "    </tr>\n",
       "    <tr>\n",
       "      <th>10</th>\n",
       "      <td>7.621</td>\n",
       "      <td>1.5</td>\n",
       "      <td>0.405465</td>\n",
       "      <td>2.030908</td>\n",
       "    </tr>\n",
       "    <tr>\n",
       "      <th>11</th>\n",
       "      <td>0.644</td>\n",
       "      <td>12.0</td>\n",
       "      <td>2.484907</td>\n",
       "      <td>-0.440057</td>\n",
       "    </tr>\n",
       "    <tr>\n",
       "      <th>12</th>\n",
       "      <td>0.296</td>\n",
       "      <td>12.0</td>\n",
       "      <td>2.484907</td>\n",
       "      <td>-1.217396</td>\n",
       "    </tr>\n",
       "    <tr>\n",
       "      <th>13</th>\n",
       "      <td>4.272</td>\n",
       "      <td>12.0</td>\n",
       "      <td>2.484907</td>\n",
       "      <td>1.452082</td>\n",
       "    </tr>\n",
       "    <tr>\n",
       "      <th>14</th>\n",
       "      <td>2.432</td>\n",
       "      <td>24.0</td>\n",
       "      <td>3.178054</td>\n",
       "      <td>0.888714</td>\n",
       "    </tr>\n",
       "    <tr>\n",
       "      <th>15</th>\n",
       "      <td>0.420</td>\n",
       "      <td>2.0</td>\n",
       "      <td>0.693147</td>\n",
       "      <td>-0.867501</td>\n",
       "    </tr>\n",
       "    <tr>\n",
       "      <th>16</th>\n",
       "      <td>0.216</td>\n",
       "      <td>1.5</td>\n",
       "      <td>0.405465</td>\n",
       "      <td>-1.532477</td>\n",
       "    </tr>\n",
       "    <tr>\n",
       "      <th>17</th>\n",
       "      <td>0.311</td>\n",
       "      <td>3.0</td>\n",
       "      <td>1.098612</td>\n",
       "      <td>-1.167962</td>\n",
       "    </tr>\n",
       "    <tr>\n",
       "      <th>18</th>\n",
       "      <td>0.235</td>\n",
       "      <td>1.0</td>\n",
       "      <td>0.000000</td>\n",
       "      <td>-1.448170</td>\n",
       "    </tr>\n",
       "    <tr>\n",
       "      <th>19</th>\n",
       "      <td>0.203</td>\n",
       "      <td>1.0</td>\n",
       "      <td>0.000000</td>\n",
       "      <td>-1.594549</td>\n",
       "    </tr>\n",
       "    <tr>\n",
       "      <th>20</th>\n",
       "      <td>1.087</td>\n",
       "      <td>12.0</td>\n",
       "      <td>2.484907</td>\n",
       "      <td>0.083422</td>\n",
       "    </tr>\n",
       "    <tr>\n",
       "      <th>21</th>\n",
       "      <td>1.158</td>\n",
       "      <td>12.0</td>\n",
       "      <td>2.484907</td>\n",
       "      <td>0.146694</td>\n",
       "    </tr>\n",
       "    <tr>\n",
       "      <th>22</th>\n",
       "      <td>3.519</td>\n",
       "      <td>1.0</td>\n",
       "      <td>0.000000</td>\n",
       "      <td>1.258177</td>\n",
       "    </tr>\n",
       "    <tr>\n",
       "      <th>23</th>\n",
       "      <td>2.648</td>\n",
       "      <td>12.0</td>\n",
       "      <td>2.484907</td>\n",
       "      <td>0.973805</td>\n",
       "    </tr>\n",
       "    <tr>\n",
       "      <th>24</th>\n",
       "      <td>0.202</td>\n",
       "      <td>1.0</td>\n",
       "      <td>0.000000</td>\n",
       "      <td>-1.599488</td>\n",
       "    </tr>\n",
       "    <tr>\n",
       "      <th>25</th>\n",
       "      <td>0.085</td>\n",
       "      <td>6.0</td>\n",
       "      <td>1.791759</td>\n",
       "      <td>-2.465104</td>\n",
       "    </tr>\n",
       "    <tr>\n",
       "      <th>26</th>\n",
       "      <td>0.260</td>\n",
       "      <td>12.0</td>\n",
       "      <td>2.484907</td>\n",
       "      <td>-1.347074</td>\n",
       "    </tr>\n",
       "    <tr>\n",
       "      <th>27</th>\n",
       "      <td>1.070</td>\n",
       "      <td>2.0</td>\n",
       "      <td>0.693147</td>\n",
       "      <td>0.067659</td>\n",
       "    </tr>\n",
       "    <tr>\n",
       "      <th>28</th>\n",
       "      <td>0.823</td>\n",
       "      <td>2.0</td>\n",
       "      <td>0.693147</td>\n",
       "      <td>-0.194799</td>\n",
       "    </tr>\n",
       "    <tr>\n",
       "      <th>29</th>\n",
       "      <td>4.166</td>\n",
       "      <td>12.0</td>\n",
       "      <td>2.484907</td>\n",
       "      <td>1.426956</td>\n",
       "    </tr>\n",
       "    <tr>\n",
       "      <th>30</th>\n",
       "      <td>0.132</td>\n",
       "      <td>2.0</td>\n",
       "      <td>0.693147</td>\n",
       "      <td>-2.024953</td>\n",
       "    </tr>\n",
       "    <tr>\n",
       "      <th>31</th>\n",
       "      <td>4.587</td>\n",
       "      <td>12.0</td>\n",
       "      <td>2.484907</td>\n",
       "      <td>1.523226</td>\n",
       "    </tr>\n",
       "    <tr>\n",
       "      <th>32</th>\n",
       "      <td>1.335</td>\n",
       "      <td>1.0</td>\n",
       "      <td>0.000000</td>\n",
       "      <td>0.288931</td>\n",
       "    </tr>\n",
       "    <tr>\n",
       "      <th>33</th>\n",
       "      <td>0.226</td>\n",
       "      <td>3.0</td>\n",
       "      <td>1.098612</td>\n",
       "      <td>-1.487220</td>\n",
       "    </tr>\n",
       "    <tr>\n",
       "      <th>34</th>\n",
       "      <td>1.905</td>\n",
       "      <td>12.0</td>\n",
       "      <td>2.484907</td>\n",
       "      <td>0.644482</td>\n",
       "    </tr>\n",
       "    <tr>\n",
       "      <th>35</th>\n",
       "      <td>1.471</td>\n",
       "      <td>6.0</td>\n",
       "      <td>1.791759</td>\n",
       "      <td>0.385942</td>\n",
       "    </tr>\n",
       "    <tr>\n",
       "      <th>36</th>\n",
       "      <td>1.515</td>\n",
       "      <td>3.0</td>\n",
       "      <td>1.098612</td>\n",
       "      <td>0.415415</td>\n",
       "    </tr>\n",
       "    <tr>\n",
       "      <th>37</th>\n",
       "      <td>11.513</td>\n",
       "      <td>1.0</td>\n",
       "      <td>0.000000</td>\n",
       "      <td>2.443477</td>\n",
       "    </tr>\n",
       "    <tr>\n",
       "      <th>38</th>\n",
       "      <td>26.644</td>\n",
       "      <td>36.0</td>\n",
       "      <td>3.583519</td>\n",
       "      <td>3.282564</td>\n",
       "    </tr>\n",
       "    <tr>\n",
       "      <th>39</th>\n",
       "      <td>1.544</td>\n",
       "      <td>1.0</td>\n",
       "      <td>0.000000</td>\n",
       "      <td>0.434376</td>\n",
       "    </tr>\n",
       "    <tr>\n",
       "      <th>40</th>\n",
       "      <td>1.965</td>\n",
       "      <td>1.0</td>\n",
       "      <td>0.000000</td>\n",
       "      <td>0.675492</td>\n",
       "    </tr>\n",
       "    <tr>\n",
       "      <th>41</th>\n",
       "      <td>2.454</td>\n",
       "      <td>24.0</td>\n",
       "      <td>3.178054</td>\n",
       "      <td>0.897719</td>\n",
       "    </tr>\n",
       "    <tr>\n",
       "      <th>42</th>\n",
       "      <td>0.868</td>\n",
       "      <td>12.0</td>\n",
       "      <td>2.484907</td>\n",
       "      <td>-0.141564</td>\n",
       "    </tr>\n",
       "    <tr>\n",
       "      <th>43</th>\n",
       "      <td>1.276</td>\n",
       "      <td>3.0</td>\n",
       "      <td>1.098612</td>\n",
       "      <td>0.243730</td>\n",
       "    </tr>\n",
       "    <tr>\n",
       "      <th>44</th>\n",
       "      <td>4.494</td>\n",
       "      <td>24.0</td>\n",
       "      <td>3.178054</td>\n",
       "      <td>1.502743</td>\n",
       "    </tr>\n",
       "    <tr>\n",
       "      <th>45</th>\n",
       "      <td>7.998</td>\n",
       "      <td>6.0</td>\n",
       "      <td>1.791759</td>\n",
       "      <td>2.079192</td>\n",
       "    </tr>\n",
       "  </tbody>\n",
       "</table>\n",
       "</div>"
      ],
      "text/plain": [
       "    NumStores  ExpirationMonth      LogY      LogX\n",
       "0       7.974             12.0  2.484907  2.076186\n",
       "1       4.023              2.0  0.693147  1.392028\n",
       "2       0.767              1.0  0.000000 -0.265268\n",
       "3       3.854              1.0  0.000000  1.349112\n",
       "4       4.802              3.0  1.098612  1.569032\n",
       "5       1.492             12.0  2.484907  0.400118\n",
       "6       0.684              3.0  1.098612 -0.379797\n",
       "7       0.201              6.0  1.791759 -1.604450\n",
       "8       1.288              3.0  1.098612  0.253091\n",
       "9       1.309              4.0  1.386294  0.269263\n",
       "10      7.621              1.5  0.405465  2.030908\n",
       "11      0.644             12.0  2.484907 -0.440057\n",
       "12      0.296             12.0  2.484907 -1.217396\n",
       "13      4.272             12.0  2.484907  1.452082\n",
       "14      2.432             24.0  3.178054  0.888714\n",
       "15      0.420              2.0  0.693147 -0.867501\n",
       "16      0.216              1.5  0.405465 -1.532477\n",
       "17      0.311              3.0  1.098612 -1.167962\n",
       "18      0.235              1.0  0.000000 -1.448170\n",
       "19      0.203              1.0  0.000000 -1.594549\n",
       "20      1.087             12.0  2.484907  0.083422\n",
       "21      1.158             12.0  2.484907  0.146694\n",
       "22      3.519              1.0  0.000000  1.258177\n",
       "23      2.648             12.0  2.484907  0.973805\n",
       "24      0.202              1.0  0.000000 -1.599488\n",
       "25      0.085              6.0  1.791759 -2.465104\n",
       "26      0.260             12.0  2.484907 -1.347074\n",
       "27      1.070              2.0  0.693147  0.067659\n",
       "28      0.823              2.0  0.693147 -0.194799\n",
       "29      4.166             12.0  2.484907  1.426956\n",
       "30      0.132              2.0  0.693147 -2.024953\n",
       "31      4.587             12.0  2.484907  1.523226\n",
       "32      1.335              1.0  0.000000  0.288931\n",
       "33      0.226              3.0  1.098612 -1.487220\n",
       "34      1.905             12.0  2.484907  0.644482\n",
       "35      1.471              6.0  1.791759  0.385942\n",
       "36      1.515              3.0  1.098612  0.415415\n",
       "37     11.513              1.0  0.000000  2.443477\n",
       "38     26.644             36.0  3.583519  3.282564\n",
       "39      1.544              1.0  0.000000  0.434376\n",
       "40      1.965              1.0  0.000000  0.675492\n",
       "41      2.454             24.0  3.178054  0.897719\n",
       "42      0.868             12.0  2.484907 -0.141564\n",
       "43      1.276              3.0  1.098612  0.243730\n",
       "44      4.494             24.0  3.178054  1.502743\n",
       "45      7.998              6.0  1.791759  2.079192"
      ]
     },
     "execution_count": 105,
     "metadata": {},
     "output_type": "execute_result"
    }
   ],
   "source": [
    "transformed_data"
   ]
  },
  {
   "cell_type": "code",
   "execution_count": 146,
   "metadata": {
    "collapsed": false,
    "scrolled": false
   },
   "outputs": [
    {
     "name": "stdout",
     "output_type": "stream",
     "text": [
      "NumStores+Salerank, R^2=0.270645681981, intercept=[ 6.67687718], coeffs=[[ 0.83189299 -0.03491206]], max_abs_resid_store=Gap, min_abs_resid_store=7-Eleven\n",
      "NumStores+X2013USSales, R^2=0.284475863177, intercept=[ 5.85759906], coeffs=[[  0.94050316 -69.01206803]], max_abs_resid_store=TJX, min_abs_resid_store=Neiman Marcus\n",
      "NumStores+X2013WorldSales, R^2=0.267165104154, intercept=[ 5.58882773], coeffs=[[  0.90784555 -38.28747116]], max_abs_resid_store=TJX, min_abs_resid_store=7-Eleven\n",
      "NumStores+RewardSize, R^2=0.284326058729, intercept=[ 6.07700564], coeffs=[[ 0.90938412 -0.18817992]], max_abs_resid_store=TJX, min_abs_resid_store=Bloomin' Brands (Outback)\n",
      "NumStores+ProfitMargin, R^2=0.259580527324, intercept=[ 5.82282779], coeffs=[[ 0.88417119 -0.02111462]], max_abs_resid_store=TJX, min_abs_resid_store=7-Eleven\n"
     ]
    }
   ],
   "source": [
    "for feature in features:\n",
    "    X = data[[\"NumStores\", feature]].values.reshape(46, 2)\n",
    "    model = lr.fit(X, y)\n",
    "    predicted = model.predict(X)\n",
    "    score = model.score(X, y)\n",
    "    intercept = model.intercept_\n",
    "    max_abs_resid_index = np.argmax(abs(predicted-y))\n",
    "    max_resid_store = data.loc[max_abs_resid_index][\"Retailer\"]\n",
    "    min_abs_resid_index = np.argmin(abs(predicted-y))\n",
    "    min_resid_store = data.loc[min_abs_resid_index][\"Retailer\"]\n",
    "    coeffs = model.coef_\n",
    "    print \"NumStores+{}, R^2={}, intercept={}, coeffs={}, \\\n",
    "           max_abs_resid_store={}, min_abs_resid_store={}\".format(feature, score, \n",
    "                                                           intercept, coeffs, max_resid_store, min_resid_store)"
   ]
  }
 ],
 "metadata": {
  "kernelspec": {
   "display_name": "Python 2",
   "language": "python",
   "name": "python2"
  },
  "language_info": {
   "codemirror_mode": {
    "name": "ipython",
    "version": 2
   },
   "file_extension": ".py",
   "mimetype": "text/x-python",
   "name": "python",
   "nbconvert_exporter": "python",
   "pygments_lexer": "ipython2",
   "version": "2.7.12"
  }
 },
 "nbformat": 4,
 "nbformat_minor": 0
}
